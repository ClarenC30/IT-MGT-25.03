{
 "cells": [
  {
   "cell_type": "code",
   "execution_count": 1,
   "id": "7d0f7d6c",
   "metadata": {},
   "outputs": [],
   "source": [
    "my_list = [1, 2, 3]\n",
    "my_dictionary ={\n",
    "    'one' : 1,\n",
    "    'two' : 2,\n",
    "    'three' : 3,\n",
    "}"
   ]
  },
  {
   "cell_type": "code",
   "execution_count": 2,
   "id": "9989fa3a",
   "metadata": {},
   "outputs": [
    {
     "data": {
      "text/plain": [
       "[1, 2, 3, 4, 5, 6, 7, 8, 9, 10]"
      ]
     },
     "execution_count": 2,
     "metadata": {},
     "output_type": "execute_result"
    }
   ],
   "source": [
    "#mapping\n",
    "\n",
    "my_list =list(range(1,11))\n",
    "\n",
    "my_list"
   ]
  },
  {
   "cell_type": "code",
   "execution_count": 3,
   "id": "9eaf2ce8",
   "metadata": {},
   "outputs": [],
   "source": [
    "my_list_2 = []\n",
    "for number in my_list:\n",
    "    new_number = number * 33\n",
    "    my_list_2.append(new_number)\n"
   ]
  },
  {
   "cell_type": "code",
   "execution_count": 5,
   "id": "7c977cae",
   "metadata": {},
   "outputs": [
    {
     "data": {
      "text/plain": [
       "[33, 66, 99, 132, 165, 198, 231, 264, 297, 330]"
      ]
     },
     "execution_count": 5,
     "metadata": {},
     "output_type": "execute_result"
    }
   ],
   "source": [
    "my_list_2"
   ]
  },
  {
   "cell_type": "code",
   "execution_count": 7,
   "id": "ab34ef94",
   "metadata": {},
   "outputs": [
    {
     "data": {
      "text/plain": [
       "[1, 2, 3, 4, 5, 6, 7, 8, 9, 10]"
      ]
     },
     "execution_count": 7,
     "metadata": {},
     "output_type": "execute_result"
    }
   ],
   "source": [
    "my_list = list(range(1,11))\n",
    "\n",
    "my_list"
   ]
  },
  {
   "cell_type": "code",
   "execution_count": 10,
   "id": "37a6f54e",
   "metadata": {},
   "outputs": [],
   "source": [
    "new_list = []\n",
    "\n",
    "for number in my_list:\n",
    "    if number % 2 == 0:\n",
    "        new_list.append(number)"
   ]
  },
  {
   "cell_type": "code",
   "execution_count": 11,
   "id": "e6532b89",
   "metadata": {},
   "outputs": [
    {
     "data": {
      "text/plain": [
       "[2, 4, 6, 8, 10]"
      ]
     },
     "execution_count": 11,
     "metadata": {},
     "output_type": "execute_result"
    }
   ],
   "source": [
    "new_list"
   ]
  },
  {
   "cell_type": "code",
   "execution_count": 13,
   "id": "139cc26d",
   "metadata": {},
   "outputs": [],
   "source": [
    "def is_even(x):\n",
    "    return x % 2 == 0\n",
    "\n",
    "new_list = []\n",
    "\n",
    "for element in my_list:\n",
    "    if is_even(element):\n",
    "        new_list.append(element)"
   ]
  },
  {
   "cell_type": "code",
   "execution_count": 14,
   "id": "95a11d71",
   "metadata": {},
   "outputs": [
    {
     "data": {
      "text/plain": [
       "[2, 4, 6, 8, 10]"
      ]
     },
     "execution_count": 14,
     "metadata": {},
     "output_type": "execute_result"
    }
   ],
   "source": [
    "new_list"
   ]
  },
  {
   "cell_type": "code",
   "execution_count": 15,
   "id": "c824fe7c",
   "metadata": {},
   "outputs": [
    {
     "data": {
      "text/plain": [
       "[33, 66, 99, 132, 165, 198, 231, 264, 297, 330]"
      ]
     },
     "execution_count": 15,
     "metadata": {},
     "output_type": "execute_result"
    }
   ],
   "source": [
    "#higher order function 'map'\n",
    "\n",
    "my_list =list(range(1,11))\n",
    "\n",
    "def multiply_by_33(x):\n",
    "    return x * 33\n",
    "\n",
    "list(map(multiply_by_33, my_list))"
   ]
  },
  {
   "cell_type": "code",
   "execution_count": 16,
   "id": "fd757c11",
   "metadata": {},
   "outputs": [
    {
     "data": {
      "text/plain": [
       "[2, 4, 6, 8, 10]"
      ]
     },
     "execution_count": 16,
     "metadata": {},
     "output_type": "execute_result"
    }
   ],
   "source": [
    "#higher order function 'filter'\n",
    "\n",
    "my_list =list(range(1,11))\n",
    "\n",
    "def is_even(x):\n",
    "    return x % 2 == 0\n",
    "\n",
    "list(filter(is_even, my_list))"
   ]
  },
  {
   "cell_type": "code",
   "execution_count": 18,
   "id": "bfb856e1",
   "metadata": {},
   "outputs": [],
   "source": [
    "#Aggregation\n",
    "\n",
    "my_list = list(range(1,11))\n",
    "\n",
    "#add all the numbers in the collection together\n",
    "\n",
    "my_sum = 0\n",
    "for number in my_list:\n",
    "    my_sum += number"
   ]
  },
  {
   "cell_type": "code",
   "execution_count": 20,
   "id": "5d0b2437",
   "metadata": {},
   "outputs": [
    {
     "data": {
      "text/plain": [
       "55"
      ]
     },
     "execution_count": 20,
     "metadata": {},
     "output_type": "execute_result"
    }
   ],
   "source": [
    "my_sum"
   ]
  },
  {
   "cell_type": "code",
   "execution_count": 22,
   "id": "a0cd38e3",
   "metadata": {},
   "outputs": [
    {
     "ename": "SyntaxError",
     "evalue": "invalid syntax (1093947083.py, line 2)",
     "output_type": "error",
     "traceback": [
      "\u001b[1;36m  Cell \u001b[1;32mIn[22], line 2\u001b[1;36m\u001b[0m\n\u001b[1;33m    ['item_sold' : 'quantity']\u001b[0m\n\u001b[1;37m                 ^\u001b[0m\n\u001b[1;31mSyntaxError\u001b[0m\u001b[1;31m:\u001b[0m invalid syntax\n"
     ]
    }
   ],
   "source": [
    "table_1 = {\n",
    "    ['item_sold' : 'quantity']\n",
    "    ['Chicken' : 1]\n",
    "    ['Iced Tea' :2]\n",
    "}\n",
    "\n",
    "table_2 = {\n",
    "    'item_sold' : ['Chicken', 'Iced Tea']\n",
    "    'quantity' : [1, 2]\n",
    "}\n",
    "\n",
    "table_3 = '''\n",
    "item_sold,quantity\n",
    "Chicken,1\n",
    "Iced Tea,2\n",
    "'''\n",
    "\n",
    "table_4 = [\n",
    "    {'item_sold': 'Chicken', 'quantity':1}\n",
    "    {'item_sold': 'Iced Tea', 'quantity':2}\n",
    "    {'item_sold': 'Milk tea', 'quantity':2}\n",
    "]\n",
    "\n"
   ]
  },
  {
   "cell_type": "code",
   "execution_count": null,
   "id": "876dd187",
   "metadata": {},
   "outputs": [],
   "source": []
  }
 ],
 "metadata": {
  "kernelspec": {
   "display_name": "base",
   "language": "python",
   "name": "python3"
  },
  "language_info": {
   "codemirror_mode": {
    "name": "ipython",
    "version": 3
   },
   "file_extension": ".py",
   "mimetype": "text/x-python",
   "name": "python",
   "nbconvert_exporter": "python",
   "pygments_lexer": "ipython3",
   "version": "3.12.7"
  }
 },
 "nbformat": 4,
 "nbformat_minor": 5
}
