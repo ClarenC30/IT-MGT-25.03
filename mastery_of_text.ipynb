{
 "cells": [
  {
   "cell_type": "code",
   "execution_count": 4,
   "id": "3c03f4d3-6a88-432d-95f9-234685d993de",
   "metadata": {},
   "outputs": [],
   "source": [
    "from urllib.request import urlopen\n",
    "url = \"https://www.gutenberg.org/cache/epub/10/pg10.txt\"\n",
    "response = urlopen(url)\n",
    "pg10 = response.read().decode('utf-8')"
   ]
  },
  {
   "cell_type": "code",
   "execution_count": 32,
   "id": "328b523f-9e1a-4069-9121-638ac73b2e35",
   "metadata": {},
   "outputs": [
    {
     "name": "stdout",
     "output_type": "stream",
     "text": [
      "There are 99968 lines in the string\n"
     ]
    }
   ],
   "source": [
    "# 1.How many lines does the string have?\n",
    "lines = len(pg10.splitlines())\n",
    "print(\"There are\", lines, \"lines in the string\")"
   ]
  },
  {
   "cell_type": "code",
   "execution_count": 31,
   "id": "c5287835-6e55-446e-9763-39df36c59d85",
   "metadata": {},
   "outputs": [
    {
     "name": "stdout",
     "output_type": "stream",
     "text": [
      "There are 795227 words in the string\n"
     ]
    }
   ],
   "source": [
    "# 2.How many words does the string have? (where a word is any set of directly-adjacent alphabet characters)\n",
    "import re #pulls out only alphabetic words, ignoring numbers and punctuation.\n",
    "\n",
    "words = re.findall(r'[a-zA-Z]+', pg10)\n",
    "word_count = len(words)\n",
    "print(\"There are\", word_count, \"words in the string\")"
   ]
  },
  {
   "cell_type": "code",
   "execution_count": 16,
   "id": "35f0644c-f5aa-4667-a2ad-25ffc90c5882",
   "metadata": {},
   "outputs": [
    {
     "name": "stdout",
     "output_type": "stream",
     "text": [
      "Occurrences of 'apostle': 47\n"
     ]
    }
   ],
   "source": [
    "#How many times does the word \"apostle\", ignoring capitalization, appear in the string?\n",
    "\n",
    "apostle_count = sum(1 for word in words if word.lower() == \"apostle\")\n",
    "print(\"Occurrences of 'apostle':\", apostle_count)"
   ]
  },
  {
   "cell_type": "code",
   "execution_count": 34,
   "id": "4bdb2e09-dc36-4dd9-abfe-f79aba2ced61",
   "metadata": {},
   "outputs": [
    {
     "name": "stdout",
     "output_type": "stream",
     "text": [
      "The most common word is ('the', 64309) times\n"
     ]
    }
   ],
   "source": [
    "#What is the most common word, ignoring capitalization, in the string? (where a word is any set of directly-adjacent alphabet characters)\n",
    "\n",
    "from collections import defaultdict\n",
    "\n",
    "word_freq = defaultdict(int)\n",
    "for word in words:\n",
    "    word_freq[word.lower()] += 1\n",
    "\n",
    "most_common_word = max(word_freq.items(), key=lambda x: x[1])\n",
    "print(\"The most common word is\", most_common_word, \"times\")\n"
   ]
  },
  {
   "cell_type": "code",
   "execution_count": null,
   "id": "80323396-d51a-401c-b71a-7c07d813d832",
   "metadata": {},
   "outputs": [],
   "source": []
  }
 ],
 "metadata": {
  "kernelspec": {
   "display_name": "Python 3 (ipykernel)",
   "language": "python",
   "name": "python3"
  },
  "language_info": {
   "codemirror_mode": {
    "name": "ipython",
    "version": 3
   },
   "file_extension": ".py",
   "mimetype": "text/x-python",
   "name": "python",
   "nbconvert_exporter": "python",
   "pygments_lexer": "ipython3",
   "version": "3.12.7"
  }
 },
 "nbformat": 4,
 "nbformat_minor": 5
}
